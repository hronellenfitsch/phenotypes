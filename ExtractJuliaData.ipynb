{
 "cells": [
  {
   "cell_type": "code",
   "execution_count": 1,
   "metadata": {},
   "outputs": [
    {
     "name": "stderr",
     "output_type": "stream",
     "text": [
      "┌ Info: Precompiling BSON [fbb218c0-5317-5bc6-957e-2ee96dd4b1f0]\n",
      "└ @ Base loading.jl:1423\n",
      "┌ Info: Precompiling VoronoiDelaunay [72f80fcb-8c52-57d9-aff0-40c1a3526986]\n",
      "└ @ Base loading.jl:1423\n"
     ]
    },
    {
     "data": {
      "text/plain": [
       "network_indices (generic function with 1 method)"
      ]
     },
     "execution_count": 1,
     "metadata": {},
     "output_type": "execute_result"
    }
   ],
   "source": [
    "using Distributed\n",
    "using BSON\n",
    "using Random\n",
    "using DelimitedFiles\n",
    "\n",
    "include(\"fluctuations.jl\")"
   ]
  },
  {
   "cell_type": "code",
   "execution_count": 29,
   "metadata": {},
   "outputs": [
    {
     "data": {
      "text/plain": [
       "Dict{Symbol, Any} with 9 entries:\n",
       "  :fluctuations => :gauss\n",
       "  :N_kappa      => 5\n",
       "  :beta         => 0.526316\n",
       "  :N_rho        => 5\n",
       "  :σ_max        => 5.0\n",
       "  :N_σ          => 40\n",
       "  :N_samples    => 2\n",
       "  :σ_min        => 0.1\n",
       "  :source       => :left"
      ]
     },
     "execution_count": 29,
     "metadata": {},
     "output_type": "execute_result"
    }
   ],
   "source": [
    "fname = \"results.bson\"\n",
    "\n",
    "d = BSON.load(fname)\n",
    "\n",
    "d[:parameters]"
   ]
  },
  {
   "cell_type": "code",
   "execution_count": 30,
   "metadata": {},
   "outputs": [
    {
     "name": "stdout",
     "output_type": "stream",
     "text": [
      "γ = 1 / (d[:parameters])[:beta] - 1 = 0.9000000000000001\n"
     ]
    },
    {
     "data": {
      "text/plain": [
       "0.9000000000000001"
      ]
     },
     "execution_count": 30,
     "metadata": {},
     "output_type": "execute_result"
    }
   ],
   "source": [
    "@show γ = 1/d[:parameters][:beta] - 1"
   ]
  },
  {
   "cell_type": "code",
   "execution_count": 15,
   "metadata": {},
   "outputs": [
    {
     "ename": "KeyError",
     "evalue": "KeyError: key :e not found",
     "output_type": "error",
     "traceback": [
      "KeyError: key :e not found",
      "",
      "Stacktrace:",
      " [1] getindex(::Dict{Symbol,Any}, ::Symbol) at ./dict.jl:478",
      " [2] top-level scope at ./In[15]:7"
     ]
    }
   ],
   "source": [
    "# for the uniform + moving sink model\n",
    "\n",
    "data = []\n",
    "conductivities = []\n",
    "\n",
    "for r in d[:results]\n",
    "    push!(data, [r[:κ], r[:ρ], r[:e], r[:P_ss], r[:C], r[:A]])\n",
    "    push!(conductivities, r[:K])\n",
    "    \n",
    "    if !r[:converged]\n",
    "        println(\"Not converged!\")\n",
    "        println(r)\n",
    "    end\n",
    "end\n",
    "\n",
    "data = hcat(data...)'\n",
    "conductivities = hcat(conductivities...)'\n",
    "\n",
    "# write out\n",
    "writedlm(fname * \"_data.txt\", data)\n",
    "writedlm(fname * \"_conductivities.txt\", conductivities)\n",
    "writedlm(fname * \"_edges.txt\", d[:network].edgelist)\n",
    "writedlm(fname * \"_nodes.txt\", d[:network].pos)"
   ]
  },
  {
   "cell_type": "code",
   "execution_count": 31,
   "metadata": {},
   "outputs": [],
   "source": [
    "# for variable γ\n",
    "\n",
    "data = []\n",
    "conductivities = []\n",
    "\n",
    "for r in d[:results]\n",
    "    push!(data, [r[:κ], r[:ρ], r[:σ], r[:P_ss], r[:C], r[:A], r[:C_half]])\n",
    "    push!(conductivities, r[:K])\n",
    "    \n",
    "    if !r[:converged]\n",
    "        println(\"Not converged!\")\n",
    "        println(r)\n",
    "    end\n",
    "end\n",
    "\n",
    "data = hcat(data...)'\n",
    "conductivities = hcat(conductivities...)'\n",
    "\n",
    "# write out\n",
    "writedlm(fname * \"_data.txt\", data)\n",
    "writedlm(fname * \"_conductivities.txt\", conductivities)\n",
    "writedlm(fname * \"_edges.txt\", d[:network].edgelist)\n",
    "writedlm(fname * \"_nodes.txt\", d[:network].pos)"
   ]
  },
  {
   "cell_type": "code",
   "execution_count": null,
   "metadata": {},
   "outputs": [],
   "source": []
  }
 ],
 "metadata": {
  "@webio": {
   "lastCommId": null,
   "lastKernelId": null
  },
  "kernelspec": {
   "display_name": "Julia 1.7.2",
   "language": "julia",
   "name": "julia-1.7"
  },
  "language_info": {
   "file_extension": ".jl",
   "mimetype": "application/julia",
   "name": "julia",
   "version": "1.7.2"
  }
 },
 "nbformat": 4,
 "nbformat_minor": 2
}
